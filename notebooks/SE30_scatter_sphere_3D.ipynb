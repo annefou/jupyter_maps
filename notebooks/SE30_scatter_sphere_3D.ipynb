{
 "cells": [
  {
   "cell_type": "code",
   "execution_count": 1,
   "metadata": {},
   "outputs": [],
   "source": [
    "import os\n",
    "import cartopy as ccrs\n",
    "import numpy as np\n",
    "import xarray as xr\n",
    "import numpy as np\n",
    "import matplotlib as mpl\n",
    "mpl.use('Agg')\n",
    "from mpl_toolkits.basemap import Basemap"
   ]
  },
  {
   "cell_type": "code",
   "execution_count": 2,
   "metadata": {},
   "outputs": [],
   "source": [
    "# Converting lat/long to cartesian\n",
    "\n",
    "def get_cartesian(lat=None,lon=None, R=6371): # R is radius of the earth\n",
    "    lat, lon = np.deg2rad(lat), np.deg2rad(lon)\n",
    "    x = R * np.cos(lat) * np.cos(lon)\n",
    "    y = R * np.cos(lat) * np.sin(lon)\n",
    "    z = R *np.sin(lat)\n",
    "    return x,y,z"
   ]
  },
  {
   "cell_type": "markdown",
   "metadata": {},
   "source": [
    "# Get countrylines"
   ]
  },
  {
   "cell_type": "code",
   "execution_count": 3,
   "metadata": {},
   "outputs": [],
   "source": [
    "# Function generating coastline lon/lat \n",
    "def get_coastline_traces(m):\n",
    "    poly_paths = m.drawcoastlines().get_paths() # coastline polygon paths\n",
    "    N_poly = 91  # use only the 91st biggest coastlines (i.e. no rivers)\n",
    "    cc_lons, cc_lats= polygons_to_traces(poly_paths, N_poly, m)\n",
    "    return cc_lons, cc_lats"
   ]
  },
  {
   "cell_type": "code",
   "execution_count": 4,
   "metadata": {},
   "outputs": [],
   "source": [
    "# Function generating country lon/lat \n",
    "def get_country_traces(m):\n",
    "    poly_paths = m.drawcountries().get_paths() # country polygon paths\n",
    "    N_poly = len(poly_paths)  # use all countries\n",
    "    country_lons, country_lats= polygons_to_traces(poly_paths, N_poly, m)\n",
    "    return country_lons, country_lats"
   ]
  },
  {
   "cell_type": "code",
   "execution_count": 5,
   "metadata": {},
   "outputs": [],
   "source": [
    "# Functions converting coastline/country polygons to lon/lat traces\n",
    "def polygons_to_traces(poly_paths, N_poly, m):\n",
    "    ''' \n",
    "    pos arg 1. (poly_paths): paths to polygons\n",
    "    pos arg 2. (N_poly): number of polygon to convert\n",
    "    '''\n",
    "    # init. plotting list\n",
    "    lons=[]\n",
    "    lats=[]\n",
    "\n",
    "    for i_poly in range(N_poly):\n",
    "        poly_path = poly_paths[i_poly]\n",
    "        \n",
    "        # get the Basemap coordinates of each segment\n",
    "        coords_cc = np.array(\n",
    "            [(vertex[0],vertex[1]) \n",
    "             for (vertex,code) in poly_path.iter_segments(simplify=False)]\n",
    "        )\n",
    "        \n",
    "        # convert coordinates to lon/lat by 'inverting' the Basemap projection\n",
    "        lon_cc, lat_cc = m(coords_cc[:,0],coords_cc[:,1], inverse=True)\n",
    "    \n",
    "        \n",
    "        lats.extend(lat_cc.tolist()+[None]) \n",
    "        lons.extend(lon_cc.tolist()+[None])\n",
    "        \n",
    "       \n",
    "    return lons, lats"
   ]
  },
  {
   "cell_type": "code",
   "execution_count": 6,
   "metadata": {},
   "outputs": [],
   "source": [
    "# Make shortcut to Basemap object, \n",
    "# not specifying projection type for this example\n",
    "map = Basemap() \n",
    "\n",
    "cc_lons, cc_lats=get_coastline_traces(map)\n",
    "country_lons, country_lats=get_country_traces(map)\n",
    "\n",
    "#concatenate the lon/lat for coastlines and country boundaries:\n",
    "lons=cc_lons+[None]+country_lons\n",
    "lats=cc_lats+[None]+country_lats"
   ]
  },
  {
   "cell_type": "code",
   "execution_count": 7,
   "metadata": {},
   "outputs": [],
   "source": [
    "continent_lons = np.array(lons)\n",
    "continent_lats = np.array(lats)"
   ]
  },
  {
   "cell_type": "markdown",
   "metadata": {},
   "source": [
    "# get countries on cartesian map"
   ]
  },
  {
   "cell_type": "code",
   "execution_count": 18,
   "metadata": {},
   "outputs": [
    {
     "name": "stdout",
     "output_type": "stream",
     "text": [
      "0\n",
      "10000\n",
      "20000\n"
     ]
    }
   ],
   "source": [
    "XC = np.zeros(continent_lats.size)\n",
    "YC = np.zeros(continent_lats.size)\n",
    "ZC = np.zeros(continent_lats.size)\n",
    "i=0\n",
    "for lat,lon in zip(continent_lats,continent_lons):\n",
    "    if lat is not None and lon is not None:\n",
    "        x,y,z = get_cartesian(lat=lat,lon=lon, R=6750.)\n",
    "    else:\n",
    "        x = np.nan\n",
    "        y = np.nan\n",
    "        z = np.nan\n",
    "    XC[i] = x\n",
    "    YC[i] = y\n",
    "    ZC[i] = z\n",
    "    if i % 10000 == 0:\n",
    "        print(i)\n",
    "    i=i+1"
   ]
  },
  {
   "cell_type": "markdown",
   "metadata": {},
   "source": [
    "# Dataset\n",
    "\n",
    "- open dataset\n",
    "- get lat, lon and TS values as numpy arrays"
   ]
  },
  {
   "cell_type": "code",
   "execution_count": 9,
   "metadata": {},
   "outputs": [],
   "source": [
    "filename = \"../data/v2.2.beta_mpich_gnu6.4.0_seFch16.cam.h0.1850-01_TS.nc\""
   ]
  },
  {
   "cell_type": "code",
   "execution_count": 10,
   "metadata": {},
   "outputs": [
    {
     "data": {
      "text/plain": [
       "<xarray.Dataset>\n",
       "Dimensions:           (ilev: 33, lev: 32, nbnd: 2, ncol: 48602, time: 1)\n",
       "Coordinates:\n",
       "  * lev               (lev) float64 3.643 7.595 14.36 ... 957.5 976.3 992.6\n",
       "  * ilev              (ilev) float64 2.255 5.032 10.16 ... 967.5 985.1 1e+03\n",
       "  * time              (time) object 1850-02-01 00:00:00\n",
       "Dimensions without coordinates: nbnd, ncol\n",
       "Data variables:\n",
       "    lat               (ncol) float64 ...\n",
       "    lon               (ncol) float64 ...\n",
       "    area              (ncol) float64 ...\n",
       "    hyam              (lev) float64 ...\n",
       "    hybm              (lev) float64 ...\n",
       "    hyai              (ilev) float64 ...\n",
       "    hybi              (ilev) float64 ...\n",
       "    date              (time) int32 ...\n",
       "    datesec           (time) int32 ...\n",
       "    time_bnds         (time, nbnd) object ...\n",
       "    date_written      (time) |S8 ...\n",
       "    time_written      (time) |S8 ...\n",
       "    ndbase            int32 ...\n",
       "    nsbase            int32 ...\n",
       "    nbdate            int32 ...\n",
       "    nbsec             int32 ...\n",
       "    mdt               int32 ...\n",
       "    ndcur             (time) int32 ...\n",
       "    nscur             (time) int32 ...\n",
       "    co2vmr            (time) float64 ...\n",
       "    ch4vmr            (time) float64 ...\n",
       "    n2ovmr            (time) float64 ...\n",
       "    f11vmr            (time) float64 ...\n",
       "    f12vmr            (time) float64 ...\n",
       "    sol_tsi           (time) float64 ...\n",
       "    nsteph            (time) int32 ...\n",
       "    ADRAIN            (time, lev, ncol) float32 ...\n",
       "    ADSNOW            (time, lev, ncol) float32 ...\n",
       "    AEROD_v           (time, ncol) float32 ...\n",
       "    ANRAIN            (time, lev, ncol) float32 ...\n",
       "    ANSNOW            (time, lev, ncol) float32 ...\n",
       "    AODDUST           (time, ncol) float32 ...\n",
       "    AODDUST1          (time, ncol) float32 ...\n",
       "    AODDUST3          (time, ncol) float32 ...\n",
       "    AODVIS            (time, ncol) float32 ...\n",
       "    AQRAIN            (time, lev, ncol) float32 ...\n",
       "    AQSNOW            (time, lev, ncol) float32 ...\n",
       "    AREI              (time, lev, ncol) float32 ...\n",
       "    AREL              (time, lev, ncol) float32 ...\n",
       "    AWNC              (time, lev, ncol) float32 ...\n",
       "    AWNI              (time, lev, ncol) float32 ...\n",
       "    CCN3              (time, lev, ncol) float32 ...\n",
       "    CDNUMC            (time, ncol) float32 ...\n",
       "    CLDHGH            (time, ncol) float32 ...\n",
       "    CLDICE            (time, lev, ncol) float32 ...\n",
       "    CLDLIQ            (time, lev, ncol) float32 ...\n",
       "    CLDLOW            (time, ncol) float32 ...\n",
       "    CLDMED            (time, ncol) float32 ...\n",
       "    CLDTOT            (time, ncol) float32 ...\n",
       "    CLOUD             (time, lev, ncol) float32 ...\n",
       "    CLOUDCOVER_CLUBB  (time, ilev, ncol) float32 ...\n",
       "    CLOUDFRAC_CLUBB   (time, lev, ncol) float32 ...\n",
       "    CONCLD            (time, lev, ncol) float32 ...\n",
       "    DCQ               (time, lev, ncol) float32 ...\n",
       "    DF_H2O2           (time, ncol) float32 ...\n",
       "    DF_H2SO4          (time, ncol) float32 ...\n",
       "    DF_SO2            (time, ncol) float32 ...\n",
       "    DMS               (time, lev, ncol) float32 ...\n",
       "    DMS_SRF           (time, ncol) float32 ...\n",
       "    DTCOND            (time, lev, ncol) float32 ...\n",
       "    DTV               (time, lev, ncol) float32 ...\n",
       "    DTWR_H2O2         (time, lev, ncol) float32 ...\n",
       "    DTWR_H2SO4        (time, lev, ncol) float32 ...\n",
       "    DTWR_SO2          (time, lev, ncol) float32 ...\n",
       "    FICE              (time, lev, ncol) float32 ...\n",
       "    FLDS              (time, ncol) float32 ...\n",
       "    FLNS              (time, ncol) float32 ...\n",
       "    FLNSC             (time, ncol) float32 ...\n",
       "    FLNT              (time, ncol) float32 ...\n",
       "    FLNTC             (time, ncol) float32 ...\n",
       "    FLNTCLR           (time, ncol) float32 ...\n",
       "    FLUT              (time, ncol) float32 ...\n",
       "    FLUTC             (time, ncol) float32 ...\n",
       "    FREQCLR           (time, ncol) float32 ...\n",
       "    FREQI             (time, lev, ncol) float32 ...\n",
       "    FREQL             (time, lev, ncol) float32 ...\n",
       "    FREQR             (time, lev, ncol) float32 ...\n",
       "    FREQS             (time, lev, ncol) float32 ...\n",
       "    FSDS              (time, ncol) float32 ...\n",
       "    FSDSC             (time, ncol) float32 ...\n",
       "    FSNS              (time, ncol) float32 ...\n",
       "    FSNSC             (time, ncol) float32 ...\n",
       "    FSNT              (time, ncol) float32 ...\n",
       "    FSNTC             (time, ncol) float32 ...\n",
       "    FSNTOA            (time, ncol) float32 ...\n",
       "    FSNTOAC           (time, ncol) float32 ...\n",
       "    FSUTOA            (time, ncol) float32 ...\n",
       "    H2O               (time, lev, ncol) float32 ...\n",
       "    H2O2              (time, lev, ncol) float32 ...\n",
       "    H2O2_SRF          (time, ncol) float32 ...\n",
       "    H2O_CLXF          (time, ncol) float32 ...\n",
       "    H2O_CMXF          (time, ncol) float32 ...\n",
       "    H2O_SRF           (time, ncol) float32 ...\n",
       "    H2SO4             (time, lev, ncol) float32 ...\n",
       "    H2SO4_SRF         (time, ncol) float32 ...\n",
       "    ICEFRAC           (time, ncol) float32 ...\n",
       "    ICIMR             (time, lev, ncol) float32 ...\n",
       "    ICWMR             (time, lev, ncol) float32 ...\n",
       "    IWC               (time, lev, ncol) float32 ...\n",
       "    LANDFRAC          (time, ncol) float32 ...\n",
       "    LHFLX             (time, ncol) float32 ...\n",
       "    LWCF              (time, ncol) float32 ...\n",
       "    NUMICE            (time, lev, ncol) float32 ...\n",
       "    NUMLIQ            (time, lev, ncol) float32 ...\n",
       "    NUMRAI            (time, lev, ncol) float32 ...\n",
       "    NUMSNO            (time, lev, ncol) float32 ...\n",
       "    OCNFRAC           (time, ncol) float32 ...\n",
       "    OMEGA             (time, lev, ncol) float32 ...\n",
       "    OMEGAT            (time, lev, ncol) float32 ...\n",
       "    PBLH              (time, ncol) float32 ...\n",
       "    PHIS              (time, ncol) float32 ...\n",
       "    PMID              (time, lev, ncol) float32 ...\n",
       "    PRECC             (time, ncol) float32 ...\n",
       "    PRECL             (time, ncol) float32 ...\n",
       "    PRECSC            (time, ncol) float32 ...\n",
       "    PRECSL            (time, ncol) float32 ...\n",
       "    PS                (time, ncol) float32 ...\n",
       "    PSDRY             (time, ncol) float32 ...\n",
       "    PSL               (time, ncol) float32 ...\n",
       "    Q                 (time, lev, ncol) float32 ...\n",
       "    QFLX              (time, ncol) float32 ...\n",
       "    QREFHT            (time, ncol) float32 ...\n",
       "    QRL               (time, lev, ncol) float32 ...\n",
       "    QRS               (time, lev, ncol) float32 ...\n",
       "    QT                (time, lev, ncol) float32 ...\n",
       "    RAINQM            (time, lev, ncol) float32 ...\n",
       "    RCMINLAYER_CLUBB  (time, ilev, ncol) float32 ...\n",
       "    RCMTEND_CLUBB     (time, lev, ncol) float32 ...\n",
       "    RCM_CLUBB         (time, ilev, ncol) float32 ...\n",
       "    RELHUM            (time, lev, ncol) float32 ...\n",
       "    RELVAR            (time, lev, ncol) float32 ...\n",
       "    RHO_CLUBB         (time, ilev, ncol) float32 ...\n",
       "    RIMTEND_CLUBB     (time, lev, ncol) float32 ...\n",
       "    RTP2_CLUBB        (time, ilev, ncol) float32 ...\n",
       "    RTPTHLP_CLUBB     (time, ilev, ncol) float32 ...\n",
       "    RVMTEND_CLUBB     (time, lev, ncol) float32 ...\n",
       "    SFDMS             (time, ncol) float32 ...\n",
       "    SFH2O2            (time, ncol) float32 ...\n",
       "    SFH2SO4           (time, ncol) float32 ...\n",
       "    SFSO2             (time, ncol) float32 ...\n",
       "    SFSOAG            (time, ncol) float32 ...\n",
       "    SFbc_a1           (time, ncol) float32 ...\n",
       "    SFbc_a4           (time, ncol) float32 ...\n",
       "    SFdst_a1          (time, ncol) float32 ...\n",
       "    SFdst_a2          (time, ncol) float32 ...\n",
       "    SFdst_a3          (time, ncol) float32 ...\n",
       "    SFncl_a1          (time, ncol) float32 ...\n",
       "    SFncl_a2          (time, ncol) float32 ...\n",
       "    SFncl_a3          (time, ncol) float32 ...\n",
       "    SFnum_a1          (time, ncol) float32 ...\n",
       "    SFnum_a2          (time, ncol) float32 ...\n",
       "    SFnum_a3          (time, ncol) float32 ...\n",
       "    SFnum_a4          (time, ncol) float32 ...\n",
       "    SFpom_a1          (time, ncol) float32 ...\n",
       "    SFpom_a4          (time, ncol) float32 ...\n",
       "    SFso4_a1          (time, ncol) float32 ...\n",
       "    SFso4_a2          (time, ncol) float32 ...\n",
       "    SFso4_a3          (time, ncol) float32 ...\n",
       "    SFsoa_a1          (time, ncol) float32 ...\n",
       "    SFsoa_a2          (time, ncol) float32 ...\n",
       "    SHFLX             (time, ncol) float32 ...\n",
       "    SL                (time, lev, ncol) float32 ...\n",
       "    SNOWHICE          (time, ncol) float32 ...\n",
       "    SNOWHLND          (time, ncol) float32 ...\n",
       "    SNOWQM            (time, lev, ncol) float32 ...\n",
       "    SO2               (time, lev, ncol) float32 ...\n",
       "    SO2_CLXF          (time, ncol) float32 ...\n",
       "    SO2_CMXF          (time, ncol) float32 ...\n",
       "    SO2_SRF           (time, ncol) float32 ...\n",
       "    SOAG              (time, lev, ncol) float32 ...\n",
       "    SOAG_SRF          (time, ncol) float32 ...\n",
       "    SOLIN             (time, ncol) float32 ...\n",
       "    STEND_CLUBB       (time, lev, ncol) float32 ...\n",
       "    SWCF              (time, ncol) float32 ...\n",
       "    T                 (time, lev, ncol) float32 ...\n",
       "    TAUBLJX           (time, ncol) float32 ...\n",
       "    TAUBLJY           (time, ncol) float32 ...\n",
       "    TAUGWX            (time, ncol) float32 ...\n",
       "    TAUGWY            (time, ncol) float32 ...\n",
       "    TAUX              (time, ncol) float32 ...\n",
       "    TAUY              (time, ncol) float32 ...\n",
       "    TGCLDCWP          (time, ncol) float32 ...\n",
       "    TGCLDIWP          (time, ncol) float32 ...\n",
       "    TGCLDLWP          (time, ncol) float32 ...\n",
       "    THLP2_CLUBB       (time, ilev, ncol) float32 ...\n",
       "    TMQ               (time, ncol) float32 ...\n",
       "    TREFHT            (time, ncol) float32 ...\n",
       "    TS                (time, ncol) float32 ...\n",
       "    TSMN              (time, ncol) float32 ...\n",
       "    TSMX              (time, ncol) float32 ...\n",
       "    U                 (time, lev, ncol) float32 ...\n",
       "    U10               (time, ncol) float32 ...\n",
       "    UM_CLUBB          (time, ilev, ncol) float32 ...\n",
       "    UP2_CLUBB         (time, ilev, ncol) float32 ...\n",
       "    UPWP_CLUBB        (time, ilev, ncol) float32 ...\n",
       "    UTEND_CLUBB       (time, lev, ncol) float32 ...\n",
       "    UU                (time, lev, ncol) float32 ...\n",
       "    V                 (time, lev, ncol) float32 ...\n",
       "    VD01              (time, lev, ncol) float32 ...\n",
       "    VM_CLUBB          (time, ilev, ncol) float32 ...\n",
       "    VP2_CLUBB         (time, ilev, ncol) float32 ...\n",
       "    VPWP_CLUBB        (time, ilev, ncol) float32 ...\n",
       "    VQ                (time, lev, ncol) float32 ...\n",
       "    VT                (time, lev, ncol) float32 ...\n",
       "    VTEND_CLUBB       (time, lev, ncol) float32 ...\n",
       "    VU                (time, lev, ncol) float32 ...\n",
       "    VV                (time, lev, ncol) float32 ...\n",
       "    WD_H2O2           (time, ncol) float32 ...\n",
       "    WD_H2SO4          (time, ncol) float32 ...\n",
       "    WD_SO2            (time, ncol) float32 ...\n",
       "    WP2_CLUBB         (time, ilev, ncol) float32 ...\n",
       "    WP3_CLUBB         (time, ilev, ncol) float32 ...\n",
       "    WPRCP_CLUBB       (time, ilev, ncol) float32 ...\n",
       "    WPRTP_CLUBB       (time, ilev, ncol) float32 ...\n",
       "    WPTHLP_CLUBB      (time, ilev, ncol) float32 ...\n",
       "    WPTHVP_CLUBB      (time, lev, ncol) float32 ...\n",
       "    WSUB              (time, lev, ncol) float32 ...\n",
       "    Z3                (time, lev, ncol) float32 ...\n",
       "    ZM_CLUBB          (time, ilev, ncol) float32 ...\n",
       "    ZT_CLUBB          (time, ilev, ncol) float32 ...\n",
       "    bc_a1             (time, lev, ncol) float32 ...\n",
       "    bc_a1DDF          (time, ncol) float32 ...\n",
       "    bc_a1SFWET        (time, ncol) float32 ...\n",
       "    bc_a1_SRF         (time, ncol) float32 ...\n",
       "    bc_a4             (time, lev, ncol) float32 ...\n",
       "    bc_a4DDF          (time, ncol) float32 ...\n",
       "    bc_a4SFWET        (time, ncol) float32 ...\n",
       "    bc_a4_CLXF        (time, ncol) float32 ...\n",
       "    bc_a4_CMXF        (time, ncol) float32 ...\n",
       "    bc_a4_SRF         (time, ncol) float32 ...\n",
       "    bc_c1             (time, lev, ncol) float32 ...\n",
       "    bc_c1SFWET        (time, ncol) float32 ...\n",
       "    bc_c4             (time, lev, ncol) float32 ...\n",
       "    bc_c4SFWET        (time, ncol) float32 ...\n",
       "    dst_a1            (time, lev, ncol) float32 ...\n",
       "    dst_a1DDF         (time, ncol) float32 ...\n",
       "    dst_a1SF          (time, ncol) float32 ...\n",
       "    dst_a1SFWET       (time, ncol) float32 ...\n",
       "    dst_a1_SRF        (time, ncol) float32 ...\n",
       "    dst_a2            (time, lev, ncol) float32 ...\n",
       "    dst_a2DDF         (time, ncol) float32 ...\n",
       "    dst_a2SF          (time, ncol) float32 ...\n",
       "    dst_a2SFWET       (time, ncol) float32 ...\n",
       "    dst_a2_SRF        (time, ncol) float32 ...\n",
       "    dst_a3            (time, lev, ncol) float32 ...\n",
       "    dst_a3DDF         (time, ncol) float32 ...\n",
       "    dst_a3SF          (time, ncol) float32 ...\n",
       "    dst_a3SFWET       (time, ncol) float32 ...\n",
       "    dst_a3_SRF        (time, ncol) float32 ...\n",
       "    dst_c1            (time, lev, ncol) float32 ...\n",
       "    dst_c1SFWET       (time, ncol) float32 ...\n",
       "    dst_c2            (time, lev, ncol) float32 ...\n",
       "    dst_c2SFWET       (time, ncol) float32 ...\n",
       "    dst_c3            (time, lev, ncol) float32 ...\n",
       "    dst_c3SFWET       (time, ncol) float32 ...\n",
       "    ncl_a1            (time, lev, ncol) float32 ...\n",
       "    ncl_a1DDF         (time, ncol) float32 ...\n",
       "    ncl_a1SF          (time, ncol) float32 ...\n",
       "    ncl_a1SFWET       (time, ncol) float32 ...\n",
       "    ncl_a1_SRF        (time, ncol) float32 ...\n",
       "    ncl_a2            (time, lev, ncol) float32 ...\n",
       "    ncl_a2DDF         (time, ncol) float32 ...\n",
       "    ncl_a2SF          (time, ncol) float32 ...\n",
       "    ncl_a2SFWET       (time, ncol) float32 ...\n",
       "    ncl_a2_SRF        (time, ncol) float32 ...\n",
       "    ncl_a3            (time, lev, ncol) float32 ...\n",
       "    ncl_a3DDF         (time, ncol) float32 ...\n",
       "    ncl_a3SF          (time, ncol) float32 ...\n",
       "    ncl_a3SFWET       (time, ncol) float32 ...\n",
       "    ncl_a3_SRF        (time, ncol) float32 ...\n",
       "    ncl_c1            (time, lev, ncol) float32 ...\n",
       "    ncl_c1SFWET       (time, ncol) float32 ...\n",
       "    ncl_c2            (time, lev, ncol) float32 ...\n",
       "    ncl_c2SFWET       (time, ncol) float32 ...\n",
       "    ncl_c3            (time, lev, ncol) float32 ...\n",
       "    ncl_c3SFWET       (time, ncol) float32 ...\n",
       "    num_a1            (time, lev, ncol) float32 ...\n",
       "    num_a1DDF         (time, ncol) float32 ...\n",
       "    num_a1SF          (time, ncol) float32 ...\n",
       "    num_a1SFWET       (time, ncol) float32 ...\n",
       "    num_a1_CLXF       (time, ncol) float32 ...\n",
       "    num_a1_CMXF       (time, ncol) float32 ...\n",
       "    num_a1_SRF        (time, ncol) float32 ...\n",
       "    num_a2            (time, lev, ncol) float32 ...\n",
       "    num_a2DDF         (time, ncol) float32 ...\n",
       "    num_a2SF          (time, ncol) float32 ...\n",
       "    num_a2SFWET       (time, ncol) float32 ...\n",
       "    num_a2_CLXF       (time, ncol) float32 ...\n",
       "    num_a2_CMXF       (time, ncol) float32 ...\n",
       "    num_a2_SRF        (time, ncol) float32 ...\n",
       "    num_a3            (time, lev, ncol) float32 ...\n",
       "    num_a3DDF         (time, ncol) float32 ...\n",
       "    num_a3SF          (time, ncol) float32 ...\n",
       "    num_a3SFWET       (time, ncol) float32 ...\n",
       "    num_a3_SRF        (time, ncol) float32 ...\n",
       "    num_a4            (time, lev, ncol) float32 ...\n",
       "    num_a4DDF         (time, ncol) float32 ...\n",
       "    num_a4SFWET       (time, ncol) float32 ...\n",
       "    num_a4_CLXF       (time, ncol) float32 ...\n",
       "    num_a4_CMXF       (time, ncol) float32 ...\n",
       "    num_a4_SRF        (time, ncol) float32 ...\n",
       "    num_c1            (time, lev, ncol) float32 ...\n",
       "    num_c1SFWET       (time, ncol) float32 ...\n",
       "    num_c2            (time, lev, ncol) float32 ...\n",
       "    num_c2SFWET       (time, ncol) float32 ...\n",
       "    num_c3            (time, lev, ncol) float32 ...\n",
       "    num_c3SFWET       (time, ncol) float32 ...\n",
       "    num_c4            (time, lev, ncol) float32 ...\n",
       "    num_c4SFWET       (time, ncol) float32 ...\n",
       "    pom_a1            (time, lev, ncol) float32 ...\n",
       "    pom_a1DDF         (time, ncol) float32 ...\n",
       "    pom_a1SFWET       (time, ncol) float32 ...\n",
       "    pom_a1_SRF        (time, ncol) float32 ...\n",
       "    pom_a4            (time, lev, ncol) float32 ...\n",
       "    pom_a4DDF         (time, ncol) float32 ...\n",
       "    pom_a4SFWET       (time, ncol) float32 ...\n",
       "    pom_a4_CLXF       (time, ncol) float32 ...\n",
       "    pom_a4_CMXF       (time, ncol) float32 ...\n",
       "    pom_a4_SRF        (time, ncol) float32 ...\n",
       "    pom_c1            (time, lev, ncol) float32 ...\n",
       "    pom_c1SFWET       (time, ncol) float32 ...\n",
       "    pom_c4            (time, lev, ncol) float32 ...\n",
       "    pom_c4SFWET       (time, ncol) float32 ...\n",
       "    so4_a1            (time, lev, ncol) float32 ...\n",
       "    so4_a1DDF         (time, ncol) float32 ...\n",
       "    so4_a1SFWET       (time, ncol) float32 ...\n",
       "    so4_a1_CLXF       (time, ncol) float32 ...\n",
       "    so4_a1_CMXF       (time, ncol) float32 ...\n",
       "    so4_a1_SRF        (time, ncol) float32 ...\n",
       "    so4_a2            (time, lev, ncol) float32 ...\n",
       "    so4_a2DDF         (time, ncol) float32 ...\n",
       "    so4_a2SFWET       (time, ncol) float32 ...\n",
       "    so4_a2_CLXF       (time, ncol) float32 ...\n",
       "    so4_a2_CMXF       (time, ncol) float32 ...\n",
       "    so4_a2_SRF        (time, ncol) float32 ...\n",
       "    so4_a3            (time, lev, ncol) float32 ...\n",
       "    so4_a3DDF         (time, ncol) float32 ...\n",
       "    so4_a3SFWET       (time, ncol) float32 ...\n",
       "    so4_a3_SRF        (time, ncol) float32 ...\n",
       "    so4_c1            (time, lev, ncol) float32 ...\n",
       "    so4_c1SFWET       (time, ncol) float32 ...\n",
       "    so4_c2            (time, lev, ncol) float32 ...\n",
       "    so4_c2SFWET       (time, ncol) float32 ...\n",
       "    so4_c3            (time, lev, ncol) float32 ...\n",
       "    so4_c3SFWET       (time, ncol) float32 ...\n",
       "    soa_a1            (time, lev, ncol) float32 ...\n",
       "    soa_a1DDF         (time, ncol) float32 ...\n",
       "    soa_a1SFWET       (time, ncol) float32 ...\n",
       "    soa_a1_SRF        (time, ncol) float32 ...\n",
       "    soa_a2            (time, lev, ncol) float32 ...\n",
       "    soa_a2DDF         (time, ncol) float32 ...\n",
       "    soa_a2SFWET       (time, ncol) float32 ...\n",
       "    soa_a2_SRF        (time, ncol) float32 ...\n",
       "    soa_c1            (time, lev, ncol) float32 ...\n",
       "    soa_c1SFWET       (time, ncol) float32 ...\n",
       "    soa_c2            (time, lev, ncol) float32 ...\n",
       "    soa_c2SFWET       (time, ncol) float32 ...\n",
       "Attributes:\n",
       "    ne:                30\n",
       "    np:                4\n",
       "    Conventions:       CF-1.0\n",
       "    source:            CAM\n",
       "    case:              seFch16\n",
       "    logname:           jeani\n",
       "    host:              service1\n",
       "    initial_file:      /work/shared/noresm/inputdata/atm/cam/inic/se/ape_topo...\n",
       "    topography_file:   /work/shared/noresm/inputdata/atm/cam/topo/se/ne30np4_...\n",
       "    model_doi_url:     https://doi.org/10.5065/D67H1H0V\n",
       "    time_period_freq:  month_1"
      ]
     },
     "execution_count": 10,
     "metadata": {},
     "output_type": "execute_result"
    }
   ],
   "source": [
    "df = xr.open_dataset(filename)\n",
    "df"
   ]
  },
  {
   "cell_type": "code",
   "execution_count": 11,
   "metadata": {},
   "outputs": [
    {
     "name": "stdout",
     "output_type": "stream",
     "text": [
      "(48602,)\n"
     ]
    }
   ],
   "source": [
    "df.lon.shape\n",
    "XS=np.zeros(df.lon.shape)\n",
    "YS=np.zeros(df.lon.shape)\n",
    "ZS=np.zeros(df.lon.shape)\n",
    "print(df.lon.shape)"
   ]
  },
  {
   "cell_type": "code",
   "execution_count": 12,
   "metadata": {},
   "outputs": [
    {
     "name": "stdout",
     "output_type": "stream",
     "text": [
      "0\n",
      "10000\n",
      "20000\n",
      "30000\n",
      "40000\n"
     ]
    }
   ],
   "source": [
    "i=0\n",
    "for lat,lon in zip(df.lat,df.lon):\n",
    "    x,y,z = get_cartesian(lat=lat,lon=lon)\n",
    "    XS[i] = x\n",
    "    YS[i] = y\n",
    "    ZS[i] = z\n",
    "    if i % 10000 == 0:\n",
    "        print(i)\n",
    "    i=i+1"
   ]
  },
  {
   "cell_type": "markdown",
   "metadata": {},
   "source": [
    "### Visualize both countries and Surface temperature"
   ]
  },
  {
   "cell_type": "code",
   "execution_count": 19,
   "metadata": {},
   "outputs": [
    {
     "data": {
      "application/vnd.jupyter.widget-view+json": {
       "model_id": "fc954d94c70c48b0a1a285ccd6f42b9f",
       "version_major": 2,
       "version_minor": 0
      },
      "text/plain": [
       "VBox(children=(Figure(camera=PerspectiveCamera(fov=46.0, position=(0.0, 0.0, 2.0), quaternion=(0.0, 0.0, 0.0, …"
      ]
     },
     "metadata": {},
     "output_type": "display_data"
    }
   ],
   "source": [
    "import ipyvolume as ipv\n",
    "\n",
    "Z = df.TS.values.astype('float64')\n",
    "from matplotlib import cm\n",
    "colormap = cm.jet\n",
    "\n",
    "znorm = Z - Z.min()\n",
    "znorm /= znorm.ptp()\n",
    "znorm.min(), znorm.max()\n",
    "color = colormap(znorm)\n",
    "ipv.figure(width=600, height=600)\n",
    "countries = ipv.plot(XC,YC,ZC, color='black', size=1)\n",
    "mesh = ipv.scatter(XS, YS, ZS, color=color[...,:3])\n",
    "ipv.pylab.style.box_off(), \n",
    "ipv.pylab.style.axes_off()\n",
    "ipv.show()\n",
    "ipv.pylab.save(\"ipyvolume_sphere3D.html\")"
   ]
  },
  {
   "cell_type": "markdown",
   "metadata": {},
   "source": [
    "# Same plot with K3D-jupyter"
   ]
  },
  {
   "cell_type": "code",
   "execution_count": 20,
   "metadata": {},
   "outputs": [],
   "source": [
    "import k3d"
   ]
  },
  {
   "cell_type": "code",
   "execution_count": 21,
   "metadata": {},
   "outputs": [
    {
     "data": {
      "text/plain": [
       "((48602,), (48602,), (48602,))"
      ]
     },
     "execution_count": 21,
     "metadata": {},
     "output_type": "execute_result"
    }
   ],
   "source": [
    "XS.shape, YS.shape, ZS.shape"
   ]
  },
  {
   "cell_type": "code",
   "execution_count": 22,
   "metadata": {},
   "outputs": [],
   "source": [
    "pos=np.vstack((XS,YS,ZS)).T"
   ]
  },
  {
   "cell_type": "markdown",
   "metadata": {},
   "source": [
    "### Get Surface temperature values for colors"
   ]
  },
  {
   "cell_type": "code",
   "execution_count": 23,
   "metadata": {},
   "outputs": [],
   "source": [
    "ZAF=Z[0,:]"
   ]
  },
  {
   "cell_type": "code",
   "execution_count": 24,
   "metadata": {},
   "outputs": [],
   "source": [
    "colors = k3d.helpers.map_colors((ZAF.astype(np.float32)),  \n",
    "        k3d.colormaps.basic_color_maps.CoolWarm,[210,320]).astype(np.uint32)"
   ]
  },
  {
   "cell_type": "markdown",
   "metadata": {},
   "source": [
    "### Create new country contours"
   ]
  },
  {
   "cell_type": "code",
   "execution_count": 25,
   "metadata": {},
   "outputs": [
    {
     "name": "stdout",
     "output_type": "stream",
     "text": [
      "0\n",
      "10000\n",
      "20000\n"
     ]
    }
   ],
   "source": [
    "XC = np.zeros(continent_lats.size)\n",
    "YC = np.zeros(continent_lats.size)\n",
    "ZC = np.zeros(continent_lats.size)\n",
    "i=0\n",
    "for lat,lon in zip(continent_lats,continent_lons):\n",
    "    if lat is not None and lon is not None:\n",
    "        x,y,z = get_cartesian(lat=lat,lon=lon, R=6400) # R=6750.)\n",
    "    else:\n",
    "        x = np.nan\n",
    "        y = np.nan\n",
    "        z = np.nan\n",
    "    XC[i] = x\n",
    "    YC[i] = y\n",
    "    ZC[i] = z\n",
    "    if i % 10000 == 0:\n",
    "        print(i)\n",
    "    i=i+1"
   ]
  },
  {
   "cell_type": "code",
   "execution_count": 26,
   "metadata": {},
   "outputs": [],
   "source": [
    "cpos=np.vstack((XC,YC,ZC)).T"
   ]
  },
  {
   "cell_type": "code",
   "execution_count": 27,
   "metadata": {},
   "outputs": [
    {
     "data": {
      "application/vnd.jupyter.widget-view+json": {
       "model_id": "a5f895727c674afe8ec58c6855e6981c",
       "version_major": 2,
       "version_minor": 0
      },
      "text/plain": [
       "Output()"
      ]
     },
     "metadata": {},
     "output_type": "display_data"
    }
   ],
   "source": [
    "plot = k3d.plot()\n",
    "points = k3d.points(pos.astype(np.float32), colors.astype(np.uint32), point_size=150.0, shader='flat')\n",
    "plot += points\n",
    "# Add countries\n",
    "countries = k3d.line(cpos.astype(np.float32),color=0x000000, point_size=150.0, shader='flat')\n",
    "plot += countries\n",
    "plot.display()"
   ]
  },
  {
   "cell_type": "code",
   "execution_count": 28,
   "metadata": {},
   "outputs": [],
   "source": [
    "plot.grid_visible = False"
   ]
  },
  {
   "cell_type": "code",
   "execution_count": null,
   "metadata": {},
   "outputs": [],
   "source": [
    "import branca.colormap as cm\n",
    "linear = cm.LinearColormap(\n",
    "    ['blue', 'yellow', 'red'],\n",
    "    vmin=210, vmax=320\n",
    ")"
   ]
  },
  {
   "cell_type": "code",
   "execution_count": null,
   "metadata": {},
   "outputs": [],
   "source": [
    "linear"
   ]
  }
 ],
 "metadata": {
  "kernelspec": {
   "display_name": "Python 3",
   "language": "python",
   "name": "python3"
  },
  "language_info": {
   "codemirror_mode": {
    "name": "ipython",
    "version": 3
   },
   "file_extension": ".py",
   "mimetype": "text/x-python",
   "name": "python",
   "nbconvert_exporter": "python",
   "pygments_lexer": "ipython3",
   "version": "3.6.7"
  }
 },
 "nbformat": 4,
 "nbformat_minor": 2
}
