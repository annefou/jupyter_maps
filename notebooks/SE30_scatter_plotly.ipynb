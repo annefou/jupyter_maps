{
 "cells": [
  {
   "cell_type": "code",
   "execution_count": null,
   "metadata": {},
   "outputs": [],
   "source": [
    "import os\n",
    "import plotly.offline as py\n",
    "import plotly.graph_objs as go\n",
    "import numpy as np\n",
    "import xarray as xr\n",
    "import numpy as np\n",
    "# For plotly\n",
    "py.init_notebook_mode()"
   ]
  },
  {
   "cell_type": "code",
   "execution_count": null,
   "metadata": {},
   "outputs": [],
   "source": [
    "filename = \"/opt/uio/ines/v2.2.beta_mpich_gnu6.4.0_seFch16.cam.h0.1850-01.nc\""
   ]
  },
  {
   "cell_type": "markdown",
   "metadata": {},
   "source": [
    "# Dataset\n",
    "\n",
    "- open dataset\n",
    "- get lat, lon and TS values as numpy arrays"
   ]
  },
  {
   "cell_type": "code",
   "execution_count": null,
   "metadata": {},
   "outputs": [],
   "source": [
    "df = xr.open_dataset(filename)\n",
    "df"
   ]
  },
  {
   "cell_type": "code",
   "execution_count": null,
   "metadata": {},
   "outputs": [],
   "source": [
    "lon=df.lon.values\n",
    "lat=df.lat.values\n",
    "TS=df.TS[0,:].values"
   ]
  },
  {
   "cell_type": "code",
   "execution_count": null,
   "metadata": {},
   "outputs": [],
   "source": [
    "TS.shape,lon.shape,lat.shape"
   ]
  },
  {
   "cell_type": "code",
   "execution_count": null,
   "metadata": {},
   "outputs": [],
   "source": [
    "data = [go.Scattergeo(\n",
    "    lat = lat,\n",
    "    lon = lon,\n",
    "    marker = dict(\n",
    "        color = TS,\n",
    "        colorscale = 'Jet',\n",
    "        opacity = 0.7,\n",
    "        size = 2,        \n",
    "        colorbar = dict(\n",
    "            thickness = 10,\n",
    "            titleside = \"right\",\n",
    "            outlinecolor = \"rgba(68, 68, 68, 0)\",\n",
    "            ticks = \"outside\",\n",
    "            ticklen = 3,\n",
    "            showticksuffix = \"last\",\n",
    "            ticksuffix = \" K\",\n",
    "            dtick = 10\n",
    "        )                \n",
    "    )\n",
    ")]\n",
    "\n",
    "layout = dict(\n",
    "    geo = dict(\n",
    "        showland = False,\n",
    "        showlakes = False,\n",
    "        showsubunits = False,\n",
    "        showcountries = True,\n",
    "        resolution = 50,\n",
    "        lonaxis = dict(\n",
    "            showgrid = False,\n",
    "            range= [ -180.0, 180.0 ]\n",
    "        ),\n",
    "        lataxis = dict (\n",
    "            showgrid = False,\n",
    "            range= [ -90.0, 90.0 ]\n",
    "        )\n",
    "    ),\n",
    "    title = 'SE30',\n",
    ")\n",
    "\n",
    "fig = go.Figure(data=data, layout=layout )\n",
    "py.iplot(fig, filename='SE30')"
   ]
  },
  {
   "cell_type": "code",
   "execution_count": null,
   "metadata": {},
   "outputs": [],
   "source": [
    "py.plot(fig, filename = 'plotly_SE30_scatter_PlateCarre.html', auto_open=False)"
   ]
  },
  {
   "cell_type": "code",
   "execution_count": null,
   "metadata": {},
   "outputs": [],
   "source": [
    "data = [go.Scattergeo(\n",
    "    lat = lat,\n",
    "    lon = lon,\n",
    "    marker = dict(\n",
    "        color = TS,\n",
    "        colorscale = 'Jet',\n",
    "        opacity = 0.7,\n",
    "        size = 4,        \n",
    "        colorbar = dict(\n",
    "            thickness = 10,\n",
    "            titleside = \"right\",\n",
    "            outlinecolor = \"rgba(68, 68, 68, 0)\",\n",
    "            ticks = \"outside\",\n",
    "            ticklen = 3,\n",
    "            showticksuffix = \"last\",\n",
    "            ticksuffix = \" K\",\n",
    "            dtick = 10\n",
    "        )                \n",
    "    )\n",
    ")]\n",
    "\n",
    "layout = dict(\n",
    "    geo = dict(\n",
    "        showland = False,\n",
    "        showlakes = False,\n",
    "        showsubunits = False,\n",
    "        showcountries = True,\n",
    "        resolution = 50,\n",
    "        projection = go.layout.geo.Projection(\n",
    "            type = 'orthographic',\n",
    "            rotation = go.layout.geo.projection.Rotation(\n",
    "                lon = -100,\n",
    "                lat = 40,\n",
    "                roll = 0\n",
    "            )\n",
    "        ),\n",
    "        lonaxis = go.layout.geo.Lonaxis(\n",
    "            showgrid = True,\n",
    "            gridcolor = 'rgb(102, 102, 102)',\n",
    "            gridwidth = 0.5\n",
    "        ),\n",
    "        lataxis = go.layout.geo.Lataxis(\n",
    "            showgrid = True,\n",
    "            gridcolor = 'rgb(102, 102, 102)',\n",
    "            gridwidth = 0.5\n",
    "        )\n",
    "    ),\n",
    "    title = 'SE30',\n",
    ")\n",
    "\n",
    "fig = go.Figure(data=data, layout=layout )\n",
    "py.iplot(fig, filename='SE30')"
   ]
  },
  {
   "cell_type": "code",
   "execution_count": null,
   "metadata": {},
   "outputs": [],
   "source": [
    "py.plot(fig, filename = 'plotly_SE30_scatter.html', auto_open=False)"
   ]
  },
  {
   "cell_type": "code",
   "execution_count": null,
   "metadata": {},
   "outputs": [],
   "source": []
  }
 ],
 "metadata": {
  "kernelspec": {
   "display_name": "Python 3",
   "language": "python",
   "name": "python3"
  },
  "language_info": {
   "codemirror_mode": {
    "name": "ipython",
    "version": 3
   },
   "file_extension": ".py",
   "mimetype": "text/x-python",
   "name": "python",
   "nbconvert_exporter": "python",
   "pygments_lexer": "ipython3",
   "version": "3.6.7"
  }
 },
 "nbformat": 4,
 "nbformat_minor": 2
}
